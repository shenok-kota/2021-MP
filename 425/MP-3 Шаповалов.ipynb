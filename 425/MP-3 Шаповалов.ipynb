{
 "cells": [
  {
   "cell_type": "markdown",
   "metadata": {},
   "source": [
    "## Выполнил студент группы 425 Шаповалов К.А."
   ]
  },
  {
   "cell_type": "markdown",
   "metadata": {},
   "source": [
    "# Решить уравнение методом полного дифференциала\n",
    "\n",
    "$$ y-xy^{'}=3(1+x^2y^{'}) $$"
   ]
  },
  {
   "cell_type": "code",
   "execution_count": null,
   "metadata": {},
   "outputs": [],
   "source": [
    "import numpy as np\n",
    "import matplotlib.pyplot as plt\n",
    "import scipy as sp"
   ]
  },
  {
   "cell_type": "code",
   "execution_count": null,
   "metadata": {},
   "outputs": [],
   "source": [
    "E=10**-12"
   ]
  },
  {
   "cell_type": "code",
   "execution_count": null,
   "metadata": {},
   "outputs": [],
   "source": [
    "def ydiff(x,C):\n",
    "    return 3*(C*x+3*x+1)/(3*x+1) ### решение с калькулятора"
   ]
  },
  {
   "cell_type": "markdown",
   "metadata": {},
   "source": [
    "$$y=\\frac{3(Cx+3x+1)}{3x+1}$$"
   ]
  },
  {
   "cell_type": "code",
   "execution_count": null,
   "metadata": {},
   "outputs": [],
   "source": [
    "def dy(x,C):\n",
    "    return (ydiff(x,C)-3)/(3*x**2+x) ### выразили y' через x and y(найденный в калькуляторе)"
   ]
  },
  {
   "cell_type": "markdown",
   "metadata": {},
   "source": [
    "$$y'=\\frac{y-3}{3x^2+x}$$"
   ]
  },
  {
   "cell_type": "code",
   "execution_count": null,
   "metadata": {},
   "outputs": [],
   "source": [
    "def left(x,C):\n",
    "    return ydiff(x,C)-x*dy(x,ydiff(x,C)) ### левая часть исходной функции"
   ]
  },
  {
   "cell_type": "markdown",
   "metadata": {},
   "source": [
    "$$ y-xy^{'} =\\frac{y-3}{3x^2+x} \\ \\ - \\ \\ x\\bullet \\frac{y-3}{3x^2+x}$$"
   ]
  },
  {
   "cell_type": "code",
   "execution_count": null,
   "metadata": {},
   "outputs": [],
   "source": [
    "def right(x,C):\n",
    "    return 3*(1+np.power(x,2)*dy(x,ydiff(x,C))) ### правая часть исходной функции"
   ]
  },
  {
   "cell_type": "markdown",
   "metadata": {},
   "source": [
    "$$3(1+x^2y^{'}) =  3(1+x^2\\bullet 2\\frac{y-3}{3x^2+x})$$"
   ]
  },
  {
   "cell_type": "markdown",
   "metadata": {},
   "source": [
    "#### $$Получили:$$\n",
    "\n",
    "$$\\frac{y-3}{3x^2+x} \\ \\ - \\ \\ x\\bullet \\frac{y-3}{3x^2+x} =3(1+x^2\\bullet 2\\frac{y-3}{3x^2+x}) $$"
   ]
  },
  {
   "cell_type": "code",
   "execution_count": null,
   "metadata": {},
   "outputs": [],
   "source": [
    "def Co2(x,C,h):\n",
    "    if left(x,ydiff(x,C),dy(x,ydiff(x,C)))- right(x,ydiff(x,C),dy(x,ydiff(x,C))) <0:\n",
    "        h=h/2\n",
    "    C=C-h\n",
    "    return C"
   ]
  },
  {
   "cell_type": "code",
   "execution_count": null,
   "metadata": {},
   "outputs": [],
   "source": [
    "def f(x,C,h):\n",
    "    while(left(x,C)-(right(x,C))>E):\n",
    "        while(left(x,C)-(right(x,C)<0)):\n",
    "            h=h/2\n",
    "        C=C-h\n",
    "    return C,ydiff(x,C),dy(x,C)"
   ]
  },
  {
   "cell_type": "code",
   "execution_count": null,
   "metadata": {},
   "outputs": [],
   "source": [
    "print(f(x=5,C=20,h=5))"
   ]
  },
  {
   "cell_type": "code",
   "execution_count": null,
   "metadata": {},
   "outputs": [],
   "source": [
    "hy=21.75\n",
    "dyu=0.234375\n",
    "hx=5\n",
    "tt=hy-hx*dyu-3*(1+np.power(hx,2)*dyu)\n",
    "print(tt)"
   ]
  },
  {
   "cell_type": "code",
   "execution_count": null,
   "metadata": {},
   "outputs": [],
   "source": []
  },
  {
   "cell_type": "code",
   "execution_count": null,
   "metadata": {},
   "outputs": [],
   "source": []
  },
  {
   "cell_type": "code",
   "execution_count": null,
   "metadata": {},
   "outputs": [],
   "source": []
  }
 ],
 "metadata": {
  "kernelspec": {
   "display_name": "Python 3",
   "language": "python",
   "name": "python3"
  },
  "language_info": {
   "codemirror_mode": {
    "name": "ipython",
    "version": 3
   },
   "file_extension": ".py",
   "mimetype": "text/x-python",
   "name": "python",
   "nbconvert_exporter": "python",
   "pygments_lexer": "ipython3",
   "version": "3.8.5"
  }
 },
 "nbformat": 4,
 "nbformat_minor": 4
}
